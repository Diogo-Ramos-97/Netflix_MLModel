{
 "cells": [
  {
   "cell_type": "markdown",
   "id": "2a5f0864",
   "metadata": {},
   "source": [
    "# Netflix ML model\n",
    "\n",
    "### My aim here is to build a machine learning model on this netflix dataset from kaggle: https://www.kaggle.com/datasets/shivamb/netflix-shows?resource=download\n",
    "\n",
    "### I'll do some EDA using Tableau, which unfortunately will not be shown here, to get some first impressions on the dataset.\n",
    "### Then I will preprocess the data (handling missing values, incorrect and irrelevant values) and transform the data into a suitable dataset for machine learning. In this case, a model to predict movies/TV shows ratings."
   ]
  },
  {
   "cell_type": "code",
   "execution_count": 2,
   "id": "ac597824",
   "metadata": {},
   "outputs": [
    {
     "name": "stderr",
     "output_type": "stream",
     "text": [
      "C:\\Users\\Utilizador\\anaconda3\\lib\\site-packages\\scipy\\__init__.py:146: UserWarning: A NumPy version >=1.16.5 and <1.23.0 is required for this version of SciPy (detected version 1.26.2\n",
      "  warnings.warn(f\"A NumPy version >={np_minversion} and <{np_maxversion}\"\n"
     ]
    }
   ],
   "source": [
    "import numpy as np\n",
    "import pandas as pd\n",
    "import matplotlib.pyplot as plt\n",
    "import seaborn as sns\n",
    "%matplotlib inline"
   ]
  },
  {
   "cell_type": "markdown",
   "id": "81ed0d85",
   "metadata": {},
   "source": [
    "# Tasks (based on tableau EDA)\n",
    "\n",
    "## handle missing values\n",
    "## duration\n",
    " - Split duration column into duration and season number\n",
    " - Convert duration into seconds\n",
    "## cast (leave for last)\n",
    " - flatten the cast column into one column for every actor\n",
    " - these columns are binary (1 means the actor played a role in the movie/tv show, 0 means they didn't)\n",
    " - create \"cast size\" column\n",
    "## rating\n",
    " - convert into universal number representing the recommended minimum age\n",
    "## listed in\n",
    " - convert in \"genre1\", \"genre2\" and \"genre3\"\n",
    " - there are some entries with \"tv shows\" or \"movies\" tag which is redundant."
   ]
  },
  {
   "cell_type": "code",
   "execution_count": 3,
   "id": "24dbe431",
   "metadata": {},
   "outputs": [
    {
     "data": {
      "text/html": [
       "<div>\n",
       "<style scoped>\n",
       "    .dataframe tbody tr th:only-of-type {\n",
       "        vertical-align: middle;\n",
       "    }\n",
       "\n",
       "    .dataframe tbody tr th {\n",
       "        vertical-align: top;\n",
       "    }\n",
       "\n",
       "    .dataframe thead th {\n",
       "        text-align: right;\n",
       "    }\n",
       "</style>\n",
       "<table border=\"1\" class=\"dataframe\">\n",
       "  <thead>\n",
       "    <tr style=\"text-align: right;\">\n",
       "      <th></th>\n",
       "      <th>show_id</th>\n",
       "      <th>type</th>\n",
       "      <th>title</th>\n",
       "      <th>director</th>\n",
       "      <th>cast</th>\n",
       "      <th>country</th>\n",
       "      <th>date_added</th>\n",
       "      <th>release_year</th>\n",
       "      <th>rating</th>\n",
       "      <th>duration</th>\n",
       "      <th>listed_in</th>\n",
       "      <th>description</th>\n",
       "    </tr>\n",
       "  </thead>\n",
       "  <tbody>\n",
       "    <tr>\n",
       "      <th>0</th>\n",
       "      <td>s1</td>\n",
       "      <td>Movie</td>\n",
       "      <td>Dick Johnson Is Dead</td>\n",
       "      <td>Kirsten Johnson</td>\n",
       "      <td>NaN</td>\n",
       "      <td>United States</td>\n",
       "      <td>September 25, 2021</td>\n",
       "      <td>2020</td>\n",
       "      <td>PG-13</td>\n",
       "      <td>90 min</td>\n",
       "      <td>Documentaries</td>\n",
       "      <td>As her father nears the end of his life, filmm...</td>\n",
       "    </tr>\n",
       "    <tr>\n",
       "      <th>1</th>\n",
       "      <td>s2</td>\n",
       "      <td>TV Show</td>\n",
       "      <td>Blood &amp; Water</td>\n",
       "      <td>NaN</td>\n",
       "      <td>Ama Qamata, Khosi Ngema, Gail Mabalane, Thaban...</td>\n",
       "      <td>South Africa</td>\n",
       "      <td>September 24, 2021</td>\n",
       "      <td>2021</td>\n",
       "      <td>TV-MA</td>\n",
       "      <td>2 Seasons</td>\n",
       "      <td>International TV Shows, TV Dramas, TV Mysteries</td>\n",
       "      <td>After crossing paths at a party, a Cape Town t...</td>\n",
       "    </tr>\n",
       "    <tr>\n",
       "      <th>2</th>\n",
       "      <td>s3</td>\n",
       "      <td>TV Show</td>\n",
       "      <td>Ganglands</td>\n",
       "      <td>Julien Leclercq</td>\n",
       "      <td>Sami Bouajila, Tracy Gotoas, Samuel Jouy, Nabi...</td>\n",
       "      <td>NaN</td>\n",
       "      <td>September 24, 2021</td>\n",
       "      <td>2021</td>\n",
       "      <td>TV-MA</td>\n",
       "      <td>1 Season</td>\n",
       "      <td>Crime TV Shows, International TV Shows, TV Act...</td>\n",
       "      <td>To protect his family from a powerful drug lor...</td>\n",
       "    </tr>\n",
       "    <tr>\n",
       "      <th>3</th>\n",
       "      <td>s4</td>\n",
       "      <td>TV Show</td>\n",
       "      <td>Jailbirds New Orleans</td>\n",
       "      <td>NaN</td>\n",
       "      <td>NaN</td>\n",
       "      <td>NaN</td>\n",
       "      <td>September 24, 2021</td>\n",
       "      <td>2021</td>\n",
       "      <td>TV-MA</td>\n",
       "      <td>1 Season</td>\n",
       "      <td>Docuseries, Reality TV</td>\n",
       "      <td>Feuds, flirtations and toilet talk go down amo...</td>\n",
       "    </tr>\n",
       "    <tr>\n",
       "      <th>4</th>\n",
       "      <td>s5</td>\n",
       "      <td>TV Show</td>\n",
       "      <td>Kota Factory</td>\n",
       "      <td>NaN</td>\n",
       "      <td>Mayur More, Jitendra Kumar, Ranjan Raj, Alam K...</td>\n",
       "      <td>India</td>\n",
       "      <td>September 24, 2021</td>\n",
       "      <td>2021</td>\n",
       "      <td>TV-MA</td>\n",
       "      <td>2 Seasons</td>\n",
       "      <td>International TV Shows, Romantic TV Shows, TV ...</td>\n",
       "      <td>In a city of coaching centers known to train I...</td>\n",
       "    </tr>\n",
       "    <tr>\n",
       "      <th>...</th>\n",
       "      <td>...</td>\n",
       "      <td>...</td>\n",
       "      <td>...</td>\n",
       "      <td>...</td>\n",
       "      <td>...</td>\n",
       "      <td>...</td>\n",
       "      <td>...</td>\n",
       "      <td>...</td>\n",
       "      <td>...</td>\n",
       "      <td>...</td>\n",
       "      <td>...</td>\n",
       "      <td>...</td>\n",
       "    </tr>\n",
       "    <tr>\n",
       "      <th>8802</th>\n",
       "      <td>s8803</td>\n",
       "      <td>Movie</td>\n",
       "      <td>Zodiac</td>\n",
       "      <td>David Fincher</td>\n",
       "      <td>Mark Ruffalo, Jake Gyllenhaal, Robert Downey J...</td>\n",
       "      <td>United States</td>\n",
       "      <td>November 20, 2019</td>\n",
       "      <td>2007</td>\n",
       "      <td>R</td>\n",
       "      <td>158 min</td>\n",
       "      <td>Cult Movies, Dramas, Thrillers</td>\n",
       "      <td>A political cartoonist, a crime reporter and a...</td>\n",
       "    </tr>\n",
       "    <tr>\n",
       "      <th>8803</th>\n",
       "      <td>s8804</td>\n",
       "      <td>TV Show</td>\n",
       "      <td>Zombie Dumb</td>\n",
       "      <td>NaN</td>\n",
       "      <td>NaN</td>\n",
       "      <td>NaN</td>\n",
       "      <td>July 1, 2019</td>\n",
       "      <td>2018</td>\n",
       "      <td>TV-Y7</td>\n",
       "      <td>2 Seasons</td>\n",
       "      <td>Kids' TV, Korean TV Shows, TV Comedies</td>\n",
       "      <td>While living alone in a spooky town, a young g...</td>\n",
       "    </tr>\n",
       "    <tr>\n",
       "      <th>8804</th>\n",
       "      <td>s8805</td>\n",
       "      <td>Movie</td>\n",
       "      <td>Zombieland</td>\n",
       "      <td>Ruben Fleischer</td>\n",
       "      <td>Jesse Eisenberg, Woody Harrelson, Emma Stone, ...</td>\n",
       "      <td>United States</td>\n",
       "      <td>November 1, 2019</td>\n",
       "      <td>2009</td>\n",
       "      <td>R</td>\n",
       "      <td>88 min</td>\n",
       "      <td>Comedies, Horror Movies</td>\n",
       "      <td>Looking to survive in a world taken over by zo...</td>\n",
       "    </tr>\n",
       "    <tr>\n",
       "      <th>8805</th>\n",
       "      <td>s8806</td>\n",
       "      <td>Movie</td>\n",
       "      <td>Zoom</td>\n",
       "      <td>Peter Hewitt</td>\n",
       "      <td>Tim Allen, Courteney Cox, Chevy Chase, Kate Ma...</td>\n",
       "      <td>United States</td>\n",
       "      <td>January 11, 2020</td>\n",
       "      <td>2006</td>\n",
       "      <td>PG</td>\n",
       "      <td>88 min</td>\n",
       "      <td>Children &amp; Family Movies, Comedies</td>\n",
       "      <td>Dragged from civilian life, a former superhero...</td>\n",
       "    </tr>\n",
       "    <tr>\n",
       "      <th>8806</th>\n",
       "      <td>s8807</td>\n",
       "      <td>Movie</td>\n",
       "      <td>Zubaan</td>\n",
       "      <td>Mozez Singh</td>\n",
       "      <td>Vicky Kaushal, Sarah-Jane Dias, Raaghav Chanan...</td>\n",
       "      <td>India</td>\n",
       "      <td>March 2, 2019</td>\n",
       "      <td>2015</td>\n",
       "      <td>TV-14</td>\n",
       "      <td>111 min</td>\n",
       "      <td>Dramas, International Movies, Music &amp; Musicals</td>\n",
       "      <td>A scrappy but poor boy worms his way into a ty...</td>\n",
       "    </tr>\n",
       "  </tbody>\n",
       "</table>\n",
       "<p>8807 rows × 12 columns</p>\n",
       "</div>"
      ],
      "text/plain": [
       "     show_id     type                  title         director  \\\n",
       "0         s1    Movie   Dick Johnson Is Dead  Kirsten Johnson   \n",
       "1         s2  TV Show          Blood & Water              NaN   \n",
       "2         s3  TV Show              Ganglands  Julien Leclercq   \n",
       "3         s4  TV Show  Jailbirds New Orleans              NaN   \n",
       "4         s5  TV Show           Kota Factory              NaN   \n",
       "...      ...      ...                    ...              ...   \n",
       "8802   s8803    Movie                 Zodiac    David Fincher   \n",
       "8803   s8804  TV Show            Zombie Dumb              NaN   \n",
       "8804   s8805    Movie             Zombieland  Ruben Fleischer   \n",
       "8805   s8806    Movie                   Zoom     Peter Hewitt   \n",
       "8806   s8807    Movie                 Zubaan      Mozez Singh   \n",
       "\n",
       "                                                   cast        country  \\\n",
       "0                                                   NaN  United States   \n",
       "1     Ama Qamata, Khosi Ngema, Gail Mabalane, Thaban...   South Africa   \n",
       "2     Sami Bouajila, Tracy Gotoas, Samuel Jouy, Nabi...            NaN   \n",
       "3                                                   NaN            NaN   \n",
       "4     Mayur More, Jitendra Kumar, Ranjan Raj, Alam K...          India   \n",
       "...                                                 ...            ...   \n",
       "8802  Mark Ruffalo, Jake Gyllenhaal, Robert Downey J...  United States   \n",
       "8803                                                NaN            NaN   \n",
       "8804  Jesse Eisenberg, Woody Harrelson, Emma Stone, ...  United States   \n",
       "8805  Tim Allen, Courteney Cox, Chevy Chase, Kate Ma...  United States   \n",
       "8806  Vicky Kaushal, Sarah-Jane Dias, Raaghav Chanan...          India   \n",
       "\n",
       "              date_added  release_year rating   duration  \\\n",
       "0     September 25, 2021          2020  PG-13     90 min   \n",
       "1     September 24, 2021          2021  TV-MA  2 Seasons   \n",
       "2     September 24, 2021          2021  TV-MA   1 Season   \n",
       "3     September 24, 2021          2021  TV-MA   1 Season   \n",
       "4     September 24, 2021          2021  TV-MA  2 Seasons   \n",
       "...                  ...           ...    ...        ...   \n",
       "8802   November 20, 2019          2007      R    158 min   \n",
       "8803        July 1, 2019          2018  TV-Y7  2 Seasons   \n",
       "8804    November 1, 2019          2009      R     88 min   \n",
       "8805    January 11, 2020          2006     PG     88 min   \n",
       "8806       March 2, 2019          2015  TV-14    111 min   \n",
       "\n",
       "                                              listed_in  \\\n",
       "0                                         Documentaries   \n",
       "1       International TV Shows, TV Dramas, TV Mysteries   \n",
       "2     Crime TV Shows, International TV Shows, TV Act...   \n",
       "3                                Docuseries, Reality TV   \n",
       "4     International TV Shows, Romantic TV Shows, TV ...   \n",
       "...                                                 ...   \n",
       "8802                     Cult Movies, Dramas, Thrillers   \n",
       "8803             Kids' TV, Korean TV Shows, TV Comedies   \n",
       "8804                            Comedies, Horror Movies   \n",
       "8805                 Children & Family Movies, Comedies   \n",
       "8806     Dramas, International Movies, Music & Musicals   \n",
       "\n",
       "                                            description  \n",
       "0     As her father nears the end of his life, filmm...  \n",
       "1     After crossing paths at a party, a Cape Town t...  \n",
       "2     To protect his family from a powerful drug lor...  \n",
       "3     Feuds, flirtations and toilet talk go down amo...  \n",
       "4     In a city of coaching centers known to train I...  \n",
       "...                                                 ...  \n",
       "8802  A political cartoonist, a crime reporter and a...  \n",
       "8803  While living alone in a spooky town, a young g...  \n",
       "8804  Looking to survive in a world taken over by zo...  \n",
       "8805  Dragged from civilian life, a former superhero...  \n",
       "8806  A scrappy but poor boy worms his way into a ty...  \n",
       "\n",
       "[8807 rows x 12 columns]"
      ]
     },
     "execution_count": 3,
     "metadata": {},
     "output_type": "execute_result"
    }
   ],
   "source": [
    "df = pd.read_csv('netflix_titles.csv')\n",
    "df"
   ]
  },
  {
   "cell_type": "code",
   "execution_count": 4,
   "id": "97825cba",
   "metadata": {},
   "outputs": [
    {
     "data": {
      "text/plain": [
       "8807"
      ]
     },
     "execution_count": 4,
     "metadata": {},
     "output_type": "execute_result"
    }
   ],
   "source": [
    "df['title'].nunique()\n",
    "# all titles are unique"
   ]
  },
  {
   "cell_type": "code",
   "execution_count": 5,
   "id": "c43ca43f",
   "metadata": {},
   "outputs": [
    {
     "data": {
      "text/plain": [
       "8807"
      ]
     },
     "execution_count": 5,
     "metadata": {},
     "output_type": "execute_result"
    }
   ],
   "source": [
    "df['show_id'].nunique()\n",
    "# all id's are unique"
   ]
  },
  {
   "cell_type": "code",
   "execution_count": 6,
   "id": "7c78cae4",
   "metadata": {},
   "outputs": [
    {
     "data": {
      "text/plain": [
       "array(['Movie', 'TV Show'], dtype=object)"
      ]
     },
     "execution_count": 6,
     "metadata": {},
     "output_type": "execute_result"
    }
   ],
   "source": [
    "df['type'].unique()\n",
    "# no irregular values in types"
   ]
  },
  {
   "cell_type": "markdown",
   "id": "18f7f0f0",
   "metadata": {},
   "source": [
    "## Missing values"
   ]
  },
  {
   "cell_type": "code",
   "execution_count": 7,
   "id": "bc05b33f",
   "metadata": {
    "scrolled": false
   },
   "outputs": [
    {
     "data": {
      "text/plain": [
       "<AxesSubplot:>"
      ]
     },
     "execution_count": 7,
     "metadata": {},
     "output_type": "execute_result"
    },
    {
     "data": {
      "image/png": "[encoded data removed]",
      "text/plain": [
       "<Figure size 432x288 with 2 Axes>"
      ]
     },
     "metadata": {
      "needs_background": "light"
     },
     "output_type": "display_data"
    }
   ],
   "source": [
    "sns.heatmap(data=df.isnull())"
   ]
  },
  {
   "cell_type": "code",
   "execution_count": 8,
   "id": "dab813d4",
   "metadata": {
    "scrolled": false
   },
   "outputs": [
    {
     "data": {
      "text/plain": [
       "show_id         0.000000\n",
       "type            0.000000\n",
       "title           0.000000\n",
       "director        0.299080\n",
       "cast            0.093675\n",
       "country         0.094357\n",
       "date_added      0.001135\n",
       "release_year    0.000000\n",
       "rating          0.000454\n",
       "duration        0.000341\n",
       "listed_in       0.000000\n",
       "description     0.000000\n",
       "dtype: float64"
      ]
     },
     "execution_count": 8,
     "metadata": {},
     "output_type": "execute_result"
    }
   ],
   "source": [
    "# percent of missing values\n",
    "df.isnull().sum() / len(df)"
   ]
  },
  {
   "cell_type": "code",
   "execution_count": 9,
   "id": "efcbf76e",
   "metadata": {},
   "outputs": [
    {
     "data": {
      "text/plain": [
       "Rajiv Chilaka                     19\n",
       "Raúl Campos, Jan Suter            18\n",
       "Marcus Raboy                      16\n",
       "Suhas Kadav                       16\n",
       "Jay Karas                         14\n",
       "                                  ..\n",
       "Raymie Muzquiz, Stu Livingston     1\n",
       "Joe Menendez                       1\n",
       "Eric Bross                         1\n",
       "Will Eisenberg                     1\n",
       "Mozez Singh                        1\n",
       "Name: director, Length: 4528, dtype: int64"
      ]
     },
     "execution_count": 9,
     "metadata": {},
     "output_type": "execute_result"
    }
   ],
   "source": [
    "df['director'].value_counts()"
   ]
  },
  {
   "cell_type": "markdown",
   "id": "57808ad8",
   "metadata": {},
   "source": [
    "### Based on tableau, there are 614 entries with commas aka multiple directors\n",
    " - I can create a \"number of directors\" column for further analysis\n",
    " - I'll have to flatten the column into other many columns. As there are too many unique director names, one-hot encoding would make the dataset too wide so I will resort to binary encoding. I'll leave the encoding for actor and director for last.\n"
   ]
  },
  {
   "cell_type": "markdown",
   "id": "e666a29e",
   "metadata": {},
   "source": [
    "## director"
   ]
  },
  {
   "cell_type": "code",
   "execution_count": 10,
   "id": "5a571464",
   "metadata": {},
   "outputs": [
    {
     "data": {
      "text/plain": [
       "1.0     5559\n",
       "2.0      542\n",
       "3.0       37\n",
       "4.0       15\n",
       "5.0        7\n",
       "10.0       3\n",
       "9.0        2\n",
       "7.0        2\n",
       "11.0       2\n",
       "12.0       2\n",
       "13.0       1\n",
       "8.0        1\n",
       "Name: num_directors, dtype: int64"
      ]
     },
     "execution_count": 10,
     "metadata": {},
     "output_type": "execute_result"
    }
   ],
   "source": [
    "# Count the number of commas in each row and add 1 to get the number of directors\n",
    "df['num_directors'] = df['director'].str.count(',') + 1\n",
    "df['num_directors'].value_counts()"
   ]
  },
  {
   "cell_type": "markdown",
   "id": "e66e055a",
   "metadata": {},
   "source": [
    " - 30% missing values is a lot, so dropping them is out of the question. As I'm dealing with categorical values and not numerical, the only real solution is to replace the nan values with a placeholder like \"unknown\"."
   ]
  },
  {
   "cell_type": "code",
   "execution_count": 11,
   "id": "d35e889b",
   "metadata": {},
   "outputs": [],
   "source": [
    "df['director'].fillna('Unknown', inplace=True)"
   ]
  },
  {
   "cell_type": "code",
   "execution_count": 12,
   "id": "5dac5b55",
   "metadata": {},
   "outputs": [
    {
     "data": {
      "text/plain": [
       "Unknown                           2634\n",
       "Rajiv Chilaka                       19\n",
       "Raúl Campos, Jan Suter              18\n",
       "Suhas Kadav                         16\n",
       "Marcus Raboy                        16\n",
       "                                  ... \n",
       "Raymie Muzquiz, Stu Livingston       1\n",
       "Joe Menendez                         1\n",
       "Eric Bross                           1\n",
       "Will Eisenberg                       1\n",
       "Mozez Singh                          1\n",
       "Name: director, Length: 4529, dtype: int64"
      ]
     },
     "execution_count": 12,
     "metadata": {},
     "output_type": "execute_result"
    }
   ],
   "source": [
    "df['director'].value_counts()"
   ]
  },
  {
   "cell_type": "code",
   "execution_count": 13,
   "id": "97b459df",
   "metadata": {},
   "outputs": [
    {
     "data": {
      "text/plain": [
       "0"
      ]
     },
     "execution_count": 13,
     "metadata": {},
     "output_type": "execute_result"
    }
   ],
   "source": [
    "df['director'].isnull().sum()"
   ]
  },
  {
   "cell_type": "code",
   "execution_count": 14,
   "id": "5a5ee451",
   "metadata": {},
   "outputs": [],
   "source": [
    "# replace for an absurd number so it is implicit that the directors are unknown and to keep the data type as int\n",
    "# 0 is out of question as I may want it in the future to represent KNOWN 0 directors entries.\n",
    "df['num_directors'].fillna(999, inplace=True)"
   ]
  },
  {
   "cell_type": "code",
   "execution_count": 15,
   "id": "dc033644",
   "metadata": {},
   "outputs": [
    {
     "data": {
      "text/plain": [
       "1.0      5559\n",
       "999.0    2634\n",
       "2.0       542\n",
       "3.0        37\n",
       "4.0        15\n",
       "5.0         7\n",
       "10.0        3\n",
       "9.0         2\n",
       "7.0         2\n",
       "11.0        2\n",
       "12.0        2\n",
       "13.0        1\n",
       "8.0         1\n",
       "Name: num_directors, dtype: int64"
      ]
     },
     "execution_count": 15,
     "metadata": {},
     "output_type": "execute_result"
    }
   ],
   "source": [
    "df['num_directors'].value_counts()"
   ]
  },
  {
   "cell_type": "code",
   "execution_count": 16,
   "id": "edbabeb8",
   "metadata": {},
   "outputs": [
    {
     "data": {
      "text/plain": [
       "0"
      ]
     },
     "execution_count": 16,
     "metadata": {},
     "output_type": "execute_result"
    }
   ],
   "source": [
    "df['num_directors'].isnull().sum()"
   ]
  },
  {
   "cell_type": "code",
   "execution_count": 17,
   "id": "9ec4e63a",
   "metadata": {
    "scrolled": true
   },
   "outputs": [
    {
     "data": {
      "text/plain": [
       "show_id          0.000000\n",
       "type             0.000000\n",
       "title            0.000000\n",
       "director         0.000000\n",
       "cast             0.093675\n",
       "country          0.094357\n",
       "date_added       0.001135\n",
       "release_year     0.000000\n",
       "rating           0.000454\n",
       "duration         0.000341\n",
       "listed_in        0.000000\n",
       "description      0.000000\n",
       "num_directors    0.000000\n",
       "dtype: float64"
      ]
     },
     "execution_count": 17,
     "metadata": {},
     "output_type": "execute_result"
    }
   ],
   "source": [
    "df.isnull().sum() / len(df)"
   ]
  },
  {
   "cell_type": "markdown",
   "id": "5fbc95de",
   "metadata": {},
   "source": [
    "## country"
   ]
  },
  {
   "cell_type": "code",
   "execution_count": 18,
   "id": "7b9ee8a7",
   "metadata": {},
   "outputs": [
    {
     "data": {
      "text/plain": [
       "748"
      ]
     },
     "execution_count": 18,
     "metadata": {},
     "output_type": "execute_result"
    }
   ],
   "source": [
    "df['country'].nunique()"
   ]
  },
  {
   "cell_type": "code",
   "execution_count": 19,
   "id": "7c4ddf29",
   "metadata": {},
   "outputs": [],
   "source": [
    "df['country'].fillna('Unknown', inplace=True)"
   ]
  },
  {
   "cell_type": "code",
   "execution_count": 20,
   "id": "f519bd31",
   "metadata": {},
   "outputs": [
    {
     "data": {
      "text/plain": [
       "0                                        United States\n",
       "1                                         South Africa\n",
       "2                                              Unknown\n",
       "3                                              Unknown\n",
       "4                                                India\n",
       "5                                              Unknown\n",
       "6                                              Unknown\n",
       "7    United States, Ghana, Burkina Faso, United Kin...\n",
       "8                                       United Kingdom\n",
       "9                                        United States\n",
       "Name: country, dtype: object"
      ]
     },
     "execution_count": 20,
     "metadata": {},
     "output_type": "execute_result"
    }
   ],
   "source": [
    "df['country'].head(10)\n",
    "# there are clusters of countries in some rows"
   ]
  },
  {
   "cell_type": "markdown",
   "id": "4d44abc2",
   "metadata": {},
   "source": [
    " - country column will need encoding as well"
   ]
  },
  {
   "cell_type": "markdown",
   "id": "31a6e692",
   "metadata": {},
   "source": [
    "## duration"
   ]
  },
  {
   "cell_type": "code",
   "execution_count": 21,
   "id": "4948cf42",
   "metadata": {},
   "outputs": [
    {
     "data": {
      "text/plain": [
       "1 Season     1793\n",
       "2 Seasons     425\n",
       "3 Seasons     199\n",
       "90 min        152\n",
       "94 min        146\n",
       "             ... \n",
       "16 min          1\n",
       "186 min         1\n",
       "193 min         1\n",
       "189 min         1\n",
       "191 min         1\n",
       "Name: duration, Length: 220, dtype: int64"
      ]
     },
     "execution_count": 21,
     "metadata": {},
     "output_type": "execute_result"
    }
   ],
   "source": [
    "df['duration'].value_counts()"
   ]
  },
  {
   "cell_type": "markdown",
   "id": "c9937010",
   "metadata": {},
   "source": [
    " - Through Tableau, I have confirmed that the values that include \"season\" keyword are tv shows and the ones that have minutes are movies, which makes sense.\n",
    " - Fortunately, since the distinction of tv show and movie is already done in the \"type\" column, I can just remove the text and convert this into a numerical feature without losing any relevant information or harming the model later on."
   ]
  },
  {
   "cell_type": "code",
   "execution_count": 22,
   "id": "1e78d5ff",
   "metadata": {},
   "outputs": [
    {
     "name": "stderr",
     "output_type": "stream",
     "text": [
      "C:\\Users\\UTILIZ~1\\AppData\\Local\\Temp/ipykernel_11676/1475061488.py:2: FutureWarning: The default value of regex will change from True to False in a future version.\n",
      "  df['duration'] = pd.to_numeric(df['duration'].str.replace('[^0-9]', ''), errors='coerce')\n"
     ]
    }
   ],
   "source": [
    "# Remove non-numeric characters and convert to numeric type. Cases with no valid numbers are replaced by NaN\n",
    "df['duration'] = pd.to_numeric(df['duration'].str.replace('[^0-9]', ''), errors='coerce')"
   ]
  },
  {
   "cell_type": "code",
   "execution_count": 23,
   "id": "20e19d22",
   "metadata": {},
   "outputs": [
    {
     "data": {
      "text/plain": [
       "0        90.0\n",
       "1         2.0\n",
       "2         1.0\n",
       "3         1.0\n",
       "4         2.0\n",
       "        ...  \n",
       "8802    158.0\n",
       "8803      2.0\n",
       "8804     88.0\n",
       "8805     88.0\n",
       "8806    111.0\n",
       "Name: duration, Length: 8807, dtype: float64"
      ]
     },
     "execution_count": 23,
     "metadata": {},
     "output_type": "execute_result"
    }
   ],
   "source": [
    "df['duration']"
   ]
  },
  {
   "cell_type": "code",
   "execution_count": 24,
   "id": "57afec61",
   "metadata": {},
   "outputs": [
    {
     "data": {
      "text/plain": [
       "3"
      ]
     },
     "execution_count": 24,
     "metadata": {},
     "output_type": "execute_result"
    }
   ],
   "source": [
    "df['duration'].isnull().sum()"
   ]
  },
  {
   "cell_type": "code",
   "execution_count": 25,
   "id": "7de1f9b8",
   "metadata": {},
   "outputs": [
    {
     "data": {
      "text/html": [
       "<div>\n",
       "<style scoped>\n",
       "    .dataframe tbody tr th:only-of-type {\n",
       "        vertical-align: middle;\n",
       "    }\n",
       "\n",
       "    .dataframe tbody tr th {\n",
       "        vertical-align: top;\n",
       "    }\n",
       "\n",
       "    .dataframe thead th {\n",
       "        text-align: right;\n",
       "    }\n",
       "</style>\n",
       "<table border=\"1\" class=\"dataframe\">\n",
       "  <thead>\n",
       "    <tr style=\"text-align: right;\">\n",
       "      <th></th>\n",
       "      <th>show_id</th>\n",
       "      <th>type</th>\n",
       "      <th>title</th>\n",
       "      <th>director</th>\n",
       "      <th>cast</th>\n",
       "      <th>country</th>\n",
       "      <th>date_added</th>\n",
       "      <th>release_year</th>\n",
       "      <th>rating</th>\n",
       "      <th>duration</th>\n",
       "      <th>listed_in</th>\n",
       "      <th>description</th>\n",
       "      <th>num_directors</th>\n",
       "    </tr>\n",
       "  </thead>\n",
       "  <tbody>\n",
       "    <tr>\n",
       "      <th>5541</th>\n",
       "      <td>s5542</td>\n",
       "      <td>Movie</td>\n",
       "      <td>Louis C.K. 2017</td>\n",
       "      <td>Louis C.K.</td>\n",
       "      <td>Louis C.K.</td>\n",
       "      <td>United States</td>\n",
       "      <td>April 4, 2017</td>\n",
       "      <td>2017</td>\n",
       "      <td>74 min</td>\n",
       "      <td>NaN</td>\n",
       "      <td>Movies</td>\n",
       "      <td>Louis C.K. muses on religion, eternal love, gi...</td>\n",
       "      <td>1.0</td>\n",
       "    </tr>\n",
       "    <tr>\n",
       "      <th>5794</th>\n",
       "      <td>s5795</td>\n",
       "      <td>Movie</td>\n",
       "      <td>Louis C.K.: Hilarious</td>\n",
       "      <td>Louis C.K.</td>\n",
       "      <td>Louis C.K.</td>\n",
       "      <td>United States</td>\n",
       "      <td>September 16, 2016</td>\n",
       "      <td>2010</td>\n",
       "      <td>84 min</td>\n",
       "      <td>NaN</td>\n",
       "      <td>Movies</td>\n",
       "      <td>Emmy-winning comedy writer Louis C.K. brings h...</td>\n",
       "      <td>1.0</td>\n",
       "    </tr>\n",
       "    <tr>\n",
       "      <th>5813</th>\n",
       "      <td>s5814</td>\n",
       "      <td>Movie</td>\n",
       "      <td>Louis C.K.: Live at the Comedy Store</td>\n",
       "      <td>Louis C.K.</td>\n",
       "      <td>Louis C.K.</td>\n",
       "      <td>United States</td>\n",
       "      <td>August 15, 2016</td>\n",
       "      <td>2015</td>\n",
       "      <td>66 min</td>\n",
       "      <td>NaN</td>\n",
       "      <td>Movies</td>\n",
       "      <td>The comic puts his trademark hilarious/thought...</td>\n",
       "      <td>1.0</td>\n",
       "    </tr>\n",
       "  </tbody>\n",
       "</table>\n",
       "</div>"
      ],
      "text/plain": [
       "     show_id   type                                 title    director  \\\n",
       "5541   s5542  Movie                       Louis C.K. 2017  Louis C.K.   \n",
       "5794   s5795  Movie                 Louis C.K.: Hilarious  Louis C.K.   \n",
       "5813   s5814  Movie  Louis C.K.: Live at the Comedy Store  Louis C.K.   \n",
       "\n",
       "            cast        country          date_added  release_year  rating  \\\n",
       "5541  Louis C.K.  United States       April 4, 2017          2017  74 min   \n",
       "5794  Louis C.K.  United States  September 16, 2016          2010  84 min   \n",
       "5813  Louis C.K.  United States     August 15, 2016          2015  66 min   \n",
       "\n",
       "      duration listed_in                                        description  \\\n",
       "5541       NaN    Movies  Louis C.K. muses on religion, eternal love, gi...   \n",
       "5794       NaN    Movies  Emmy-winning comedy writer Louis C.K. brings h...   \n",
       "5813       NaN    Movies  The comic puts his trademark hilarious/thought...   \n",
       "\n",
       "      num_directors  \n",
       "5541            1.0  \n",
       "5794            1.0  \n",
       "5813            1.0  "
      ]
     },
     "execution_count": 25,
     "metadata": {},
     "output_type": "execute_result"
    }
   ],
   "source": [
    "df[df['duration'].isnull() == True]"
   ]
  },
  {
   "cell_type": "markdown",
   "id": "855ee6c7",
   "metadata": {},
   "source": [
    " - looks like the duration is in the rating column. I can imputate the data from that column and change the rating to none"
   ]
  },
  {
   "cell_type": "code",
   "execution_count": 26,
   "id": "ab3bcd11",
   "metadata": {},
   "outputs": [],
   "source": [
    "df['duration'].fillna(df['rating'], inplace=True)"
   ]
  },
  {
   "cell_type": "code",
   "execution_count": 27,
   "id": "2cf0c68c",
   "metadata": {},
   "outputs": [
    {
     "data": {
      "text/plain": [
       "5541    74 min\n",
       "Name: rating, dtype: object"
      ]
     },
     "execution_count": 27,
     "metadata": {},
     "output_type": "execute_result"
    }
   ],
   "source": [
    "df[df['show_id'] == 's5542']['rating']"
   ]
  },
  {
   "cell_type": "code",
   "execution_count": 28,
   "id": "8e995d8e",
   "metadata": {},
   "outputs": [],
   "source": [
    "df.loc[5541, 'rating'] = None\n",
    "df.loc[5794, 'rating'] = None\n",
    "df.loc[5813, 'rating'] = None"
   ]
  },
  {
   "cell_type": "code",
   "execution_count": 29,
   "id": "c98e84c5",
   "metadata": {},
   "outputs": [
    {
     "data": {
      "text/plain": [
       "show_id                                                      s5542\n",
       "type                                                         Movie\n",
       "title                                              Louis C.K. 2017\n",
       "director                                                Louis C.K.\n",
       "cast                                                    Louis C.K.\n",
       "country                                              United States\n",
       "date_added                                           April 4, 2017\n",
       "release_year                                                  2017\n",
       "rating                                                        None\n",
       "duration                                                    74 min\n",
       "listed_in                                                   Movies\n",
       "description      Louis C.K. muses on religion, eternal love, gi...\n",
       "num_directors                                                  1.0\n",
       "Name: 5541, dtype: object"
      ]
     },
     "execution_count": 29,
     "metadata": {},
     "output_type": "execute_result"
    }
   ],
   "source": [
    "df.loc[5541]"
   ]
  },
  {
   "cell_type": "code",
   "execution_count": 30,
   "id": "6f3fb6c6",
   "metadata": {},
   "outputs": [
    {
     "data": {
      "text/plain": [
       "0"
      ]
     },
     "execution_count": 30,
     "metadata": {},
     "output_type": "execute_result"
    }
   ],
   "source": [
    "df['duration'].isnull().sum()"
   ]
  },
  {
   "cell_type": "markdown",
   "id": "cf9e3b10",
   "metadata": {},
   "source": [
    "## date_added\n",
    " - the date in which a movie or tv show was added to the table is irrelevant to the model as it doesn't represent a feature. It's just random information not related to the object of study, so I will drop the column entirely."
   ]
  },
  {
   "cell_type": "code",
   "execution_count": 31,
   "id": "15a5e0fe",
   "metadata": {},
   "outputs": [],
   "source": [
    "df.drop(columns='date_added', axis=1, inplace=True)"
   ]
  },
  {
   "cell_type": "code",
   "execution_count": 32,
   "id": "eeb67175",
   "metadata": {},
   "outputs": [
    {
     "data": {
      "text/html": [
       "<div>\n",
       "<style scoped>\n",
       "    .dataframe tbody tr th:only-of-type {\n",
       "        vertical-align: middle;\n",
       "    }\n",
       "\n",
       "    .dataframe tbody tr th {\n",
       "        vertical-align: top;\n",
       "    }\n",
       "\n",
       "    .dataframe thead th {\n",
       "        text-align: right;\n",
       "    }\n",
       "</style>\n",
       "<table border=\"1\" class=\"dataframe\">\n",
       "  <thead>\n",
       "    <tr style=\"text-align: right;\">\n",
       "      <th></th>\n",
       "      <th>show_id</th>\n",
       "      <th>type</th>\n",
       "      <th>title</th>\n",
       "      <th>director</th>\n",
       "      <th>cast</th>\n",
       "      <th>country</th>\n",
       "      <th>release_year</th>\n",
       "      <th>rating</th>\n",
       "      <th>duration</th>\n",
       "      <th>listed_in</th>\n",
       "      <th>description</th>\n",
       "      <th>num_directors</th>\n",
       "    </tr>\n",
       "  </thead>\n",
       "  <tbody>\n",
       "  </tbody>\n",
       "</table>\n",
       "</div>"
      ],
      "text/plain": [
       "Empty DataFrame\n",
       "Columns: [show_id, type, title, director, cast, country, release_year, rating, duration, listed_in, description, num_directors]\n",
       "Index: []"
      ]
     },
     "execution_count": 32,
     "metadata": {},
     "output_type": "execute_result"
    }
   ],
   "source": [
    "df.head(0)"
   ]
  },
  {
   "cell_type": "markdown",
   "id": "23ebf665",
   "metadata": {},
   "source": [
    "## release_year\n",
    " - no need to change anything here"
   ]
  },
  {
   "cell_type": "code",
   "execution_count": 33,
   "id": "6a68e09c",
   "metadata": {},
   "outputs": [
    {
     "data": {
      "text/plain": [
       "array([1925, 1942, 1943, 1944, 1945, 1946, 1947, 1954, 1955, 1956, 1958,\n",
       "       1959, 1960, 1961, 1962, 1963, 1964, 1965, 1966, 1967, 1968, 1969,\n",
       "       1970, 1971, 1972, 1973, 1974, 1975, 1976, 1977, 1978, 1979, 1980,\n",
       "       1981, 1982, 1983, 1984, 1985, 1986, 1987, 1988, 1989, 1990, 1991,\n",
       "       1992, 1993, 1994, 1995, 1996, 1997, 1998, 1999, 2000, 2001, 2002,\n",
       "       2003, 2004, 2005, 2006, 2007, 2008, 2009, 2010, 2011, 2012, 2013,\n",
       "       2014, 2015, 2016, 2017, 2018, 2019, 2020, 2021], dtype=int64)"
      ]
     },
     "execution_count": 33,
     "metadata": {},
     "output_type": "execute_result"
    }
   ],
   "source": [
    "df['release_year'].sort_values().unique()"
   ]
  },
  {
   "cell_type": "markdown",
   "id": "759a7997",
   "metadata": {},
   "source": [
    "## rating/min_age\n",
    "**reminder: minimum age restriction is the target/label, which is gonna be created based on this rating column.**\n",
    "\n",
    "**It can be interesting to immediately know an age restriction e.g. to limit people at the cinema or a streaming app**\n",
    "\n",
    "**because this is just a personal project, I did a quick search on every rating to know the recommended minimum age associated with each of them:**\n",
    "\n",
    "\n",
    " - no restriction - G, TV-Y, TV-G\n",
    " - 7+ - TV-Y7, TV-Y7-FV, PG, TV-PG\n",
    " - 13+ - PG-13, TV-14\n",
    " - 17+ - NC-17, TV-MA, R"
   ]
  },
  {
   "cell_type": "code",
   "execution_count": 34,
   "id": "2989b05c",
   "metadata": {},
   "outputs": [
    {
     "data": {
      "text/plain": [
       "array(['PG-13', 'TV-MA', 'PG', 'TV-14', 'TV-PG', 'TV-Y', 'TV-Y7', 'R',\n",
       "       'TV-G', 'G', 'NC-17', None, 'NR', nan, 'TV-Y7-FV', 'UR'],\n",
       "      dtype=object)"
      ]
     },
     "execution_count": 34,
     "metadata": {},
     "output_type": "execute_result"
    }
   ],
   "source": [
    "df['rating'].unique()"
   ]
  },
  {
   "cell_type": "code",
   "execution_count": 35,
   "id": "103c7018",
   "metadata": {},
   "outputs": [
    {
     "data": {
      "text/plain": [
       "TV-MA       3207\n",
       "TV-14       2160\n",
       "TV-PG        863\n",
       "R            799\n",
       "PG-13        490\n",
       "TV-Y7        334\n",
       "TV-Y         307\n",
       "PG           287\n",
       "TV-G         220\n",
       "NR            80\n",
       "G             41\n",
       "TV-Y7-FV       6\n",
       "NC-17          3\n",
       "UR             3\n",
       "Name: rating, dtype: int64"
      ]
     },
     "execution_count": 35,
     "metadata": {},
     "output_type": "execute_result"
    }
   ],
   "source": [
    "df['rating'].value_counts()"
   ]
  },
  {
   "cell_type": "markdown",
   "id": "7376de5c",
   "metadata": {},
   "source": [
    " - unrated (UR and NR) shows will just mess with the data training if I default them to a certain value. Given that they are in very low quantity, I will just drop them\n",
    " - I'll also drop none and nan values"
   ]
  },
  {
   "cell_type": "code",
   "execution_count": 36,
   "id": "2a7964d1",
   "metadata": {},
   "outputs": [],
   "source": [
    "# dropping NR and UR rating rows\n",
    "df = df[~df['rating'].isin(['NR', 'UR'])]"
   ]
  },
  {
   "cell_type": "code",
   "execution_count": 37,
   "id": "f06442fc",
   "metadata": {},
   "outputs": [
    {
     "data": {
      "text/plain": [
       "7"
      ]
     },
     "execution_count": 37,
     "metadata": {},
     "output_type": "execute_result"
    }
   ],
   "source": [
    "df['rating'].isna().sum()"
   ]
  },
  {
   "cell_type": "code",
   "execution_count": 38,
   "id": "85ab5b7f",
   "metadata": {},
   "outputs": [
    {
     "name": "stderr",
     "output_type": "stream",
     "text": [
      "C:\\Users\\Utilizador\\anaconda3\\lib\\site-packages\\pandas\\util\\_decorators.py:311: SettingWithCopyWarning: \n",
      "A value is trying to be set on a copy of a slice from a DataFrame\n",
      "\n",
      "See the caveats in the documentation: https://pandas.pydata.org/pandas-docs/stable/user_guide/indexing.html#returning-a-view-versus-a-copy\n",
      "  return func(*args, **kwargs)\n"
     ]
    }
   ],
   "source": [
    "df.dropna(subset=['rating'], inplace=True)"
   ]
  },
  {
   "cell_type": "code",
   "execution_count": 39,
   "id": "b141b8ee",
   "metadata": {},
   "outputs": [
    {
     "data": {
      "text/plain": [
       "show_id            0\n",
       "type               0\n",
       "title              0\n",
       "director           0\n",
       "cast             808\n",
       "country            0\n",
       "release_year       0\n",
       "rating             0\n",
       "duration           0\n",
       "listed_in          0\n",
       "description        0\n",
       "num_directors      0\n",
       "dtype: int64"
      ]
     },
     "execution_count": 39,
     "metadata": {},
     "output_type": "execute_result"
    }
   ],
   "source": [
    "df.isna().sum()"
   ]
  },
  {
   "cell_type": "code",
   "execution_count": 40,
   "id": "6aca46ce",
   "metadata": {},
   "outputs": [
    {
     "data": {
      "text/plain": [
       "TV-MA       3207\n",
       "TV-14       2160\n",
       "TV-PG        863\n",
       "R            799\n",
       "PG-13        490\n",
       "TV-Y7        334\n",
       "TV-Y         307\n",
       "PG           287\n",
       "TV-G         220\n",
       "G             41\n",
       "TV-Y7-FV       6\n",
       "NC-17          3\n",
       "Name: rating, dtype: int64"
      ]
     },
     "execution_count": 40,
     "metadata": {},
     "output_type": "execute_result"
    }
   ],
   "source": [
    "df['rating'].value_counts()"
   ]
  },
  {
   "cell_type": "code",
   "execution_count": 41,
   "id": "e1c36f2b",
   "metadata": {},
   "outputs": [],
   "source": [
    "# map ratings to minimum age\n",
    "def map_rating_to_min_age(rating):\n",
    "    if rating in ['G', 'TV-Y', 'TV-G']:\n",
    "        return 0\n",
    "    elif rating in ['TV-Y7', 'TV-Y7-FV', 'PG', 'TV-PG']:\n",
    "        return 7\n",
    "    elif rating in ['PG-13', 'TV-14']:\n",
    "        return 13\n",
    "    elif rating in ['NC-17', 'TV-MA', 'R']:\n",
    "        return 17\n",
    "    else:\n",
    "        return None"
   ]
  },
  {
   "cell_type": "code",
   "execution_count": 42,
   "id": "8c3a8a86",
   "metadata": {},
   "outputs": [
    {
     "name": "stderr",
     "output_type": "stream",
     "text": [
      "C:\\Users\\UTILIZ~1\\AppData\\Local\\Temp/ipykernel_11676/4002309192.py:2: SettingWithCopyWarning: \n",
      "A value is trying to be set on a copy of a slice from a DataFrame.\n",
      "Try using .loc[row_indexer,col_indexer] = value instead\n",
      "\n",
      "See the caveats in the documentation: https://pandas.pydata.org/pandas-docs/stable/user_guide/indexing.html#returning-a-view-versus-a-copy\n",
      "  df['min_age'] = df['rating'].apply(map_rating_to_min_age)\n"
     ]
    }
   ],
   "source": [
    "# Apply the function to create the new 'min_age' column\n",
    "df['min_age'] = df['rating'].apply(map_rating_to_min_age)"
   ]
  },
  {
   "cell_type": "code",
   "execution_count": 43,
   "id": "2c42bdc3",
   "metadata": {
    "scrolled": true
   },
   "outputs": [
    {
     "data": {
      "text/plain": [
       "17    4009\n",
       "13    2650\n",
       "7     1490\n",
       "0      568\n",
       "Name: min_age, dtype: int64"
      ]
     },
     "execution_count": 43,
     "metadata": {},
     "output_type": "execute_result"
    }
   ],
   "source": [
    "df['min_age'].value_counts()"
   ]
  },
  {
   "cell_type": "markdown",
   "id": "681c1649",
   "metadata": {},
   "source": [
    " - time to drop rating column as it is redundant and will result in data leakage later on"
   ]
  },
  {
   "cell_type": "code",
   "execution_count": 44,
   "id": "53e6012b",
   "metadata": {},
   "outputs": [],
   "source": [
    "#df.drop('rating', axis=1, inplace=True)"
   ]
  },
  {
   "cell_type": "markdown",
   "id": "a90c57dc",
   "metadata": {},
   "source": [
    "## description\n",
    " - the description is a value that contains a lot of text and will be processed using NLP. It will be a model in itself."
   ]
  },
  {
   "cell_type": "code",
   "execution_count": 45,
   "id": "217f8015",
   "metadata": {},
   "outputs": [],
   "source": [
    "from sklearn.model_selection import train_test_split\n",
    "from sklearn.feature_extraction.text import TfidfVectorizer\n",
    "from sklearn.tree import DecisionTreeClassifier\n",
    "from sklearn.metrics import accuracy_score, classification_report"
   ]
  },
  {
   "cell_type": "code",
   "execution_count": 46,
   "id": "024a3ee1",
   "metadata": {},
   "outputs": [],
   "source": [
    "X = df['description']\n",
    "y = df['min_age']"
   ]
  },
  {
   "cell_type": "code",
   "execution_count": 47,
   "id": "a5200a9d",
   "metadata": {},
   "outputs": [],
   "source": [
    "X_train, X_test, y_train, y_test = train_test_split(X, y, test_size=0.2, random_state=42)"
   ]
  },
  {
   "cell_type": "code",
   "execution_count": 48,
   "id": "f9a5e4ba",
   "metadata": {},
   "outputs": [],
   "source": [
    "# text preprocessing and vectorization using TF-IDF\n",
    "# more specifically, tokenization, lowercasing all words, removing stop words (such as 'the' or 'and') and vectorizing the words\n",
    "vectorizer = TfidfVectorizer(stop_words='english')\n",
    "\n",
    "# create training dataset and test dataset (features)\n",
    "X_train_tfidf = vectorizer.fit_transform(X_train)\n",
    "X_test_tfidf = vectorizer.transform(X_test)"
   ]
  },
  {
   "cell_type": "code",
   "execution_count": 49,
   "id": "68ea8711",
   "metadata": {},
   "outputs": [
    {
     "data": {
      "text/plain": [
       "DecisionTreeClassifier(random_state=42)"
      ]
     },
     "execution_count": 49,
     "metadata": {},
     "output_type": "execute_result"
    }
   ],
   "source": [
    "# create and train the Decision Tree Classifier model\n",
    "model = DecisionTreeClassifier(random_state=42)\n",
    "model.fit(X_train_tfidf, y_train)"
   ]
  },
  {
   "cell_type": "code",
   "execution_count": 50,
   "id": "156a92eb",
   "metadata": {},
   "outputs": [],
   "source": [
    "# create predictions on the test set\n",
    "predictions = model.predict(X_test_tfidf)"
   ]
  },
  {
   "cell_type": "code",
   "execution_count": 51,
   "id": "30576d93",
   "metadata": {},
   "outputs": [
    {
     "name": "stdout",
     "output_type": "stream",
     "text": [
      "Accuracy: 0.4294724770642202\n"
     ]
    }
   ],
   "source": [
    "accuracy = accuracy_score(y_test, predictions)\n",
    "print(f'Accuracy: {accuracy}')"
   ]
  },
  {
   "cell_type": "code",
   "execution_count": 52,
   "id": "169d67cf",
   "metadata": {},
   "outputs": [
    {
     "name": "stdout",
     "output_type": "stream",
     "text": [
      "              precision    recall  f1-score   support\n",
      "\n",
      "           0       0.34      0.25      0.29       121\n",
      "           7       0.30      0.28      0.29       312\n",
      "          13       0.34      0.34      0.34       513\n",
      "          17       0.54      0.57      0.55       798\n",
      "\n",
      "    accuracy                           0.43      1744\n",
      "   macro avg       0.38      0.36      0.37      1744\n",
      "weighted avg       0.42      0.43      0.43      1744\n",
      "\n"
     ]
    }
   ],
   "source": [
    "print(classification_report(y_test, predictions))"
   ]
  },
  {
   "cell_type": "markdown",
   "id": "b518e11e",
   "metadata": {},
   "source": [
    " - model is pretty innaccurate. It either means the model is just bad and needs some work or that the description doesn't have that much correlation with the rating. The rating conversion may also explain some errors so I'll try with the rating column afterward."
   ]
  },
  {
   "cell_type": "code",
   "execution_count": 57,
   "id": "c65dc39a",
   "metadata": {},
   "outputs": [],
   "source": [
    "# get the words\n",
    "feature_names = vectorizer.get_feature_names()\n",
    "\n",
    "# create a DataFrame to store words and their corresponding TF-IDF values\n",
    "tfidf_df = pd.DataFrame(X_train_tfidf.toarray(), columns=feature_names)"
   ]
  },
  {
   "cell_type": "code",
   "execution_count": 65,
   "id": "0b7decef",
   "metadata": {},
   "outputs": [
    {
     "data": {
      "text/plain": [
       "life           92.261127\n",
       "young          83.189746\n",
       "new            77.958362\n",
       "family         75.805686\n",
       "world          66.816269\n",
       "man            65.799495\n",
       "woman          64.257119\n",
       "love           62.725172\n",
       "friends        58.289470\n",
       "series         50.001371\n",
       "school         47.176977\n",
       "documentary    46.979676\n",
       "father         45.042945\n",
       "finds          44.709901\n",
       "home           43.667885\n",
       "high           41.944428\n",
       "old            41.910000\n",
       "help           41.186133\n",
       "lives          41.088588\n",
       "takes          38.933475\n",
       "group          38.423126\n",
       "years          37.711566\n",
       "girl           35.534840\n",
       "year           34.352019\n",
       "daughter       34.344893\n",
       "save           34.050505\n",
       "city           33.200952\n",
       "true           32.199873\n",
       "mother         31.824719\n",
       "teen           31.776683\n",
       "town           31.649185\n",
       "team           31.442130\n",
       "son            30.883055\n",
       "murder         30.694178\n",
       "time           30.513221\n",
       "mysterious     30.462862\n",
       "death          30.258295\n",
       "past           29.566147\n",
       "war            29.354323\n",
       "special        29.352790\n",
       "friend         29.240579\n",
       "crime          29.089516\n",
       "wife           29.023646\n",
       "women          28.969596\n",
       "story          28.895524\n",
       "boy            27.492407\n",
       "secret         27.277213\n",
       "best           26.750606\n",
       "gets           26.545936\n",
       "couple         26.438637\n",
       "based          26.313498\n",
       "comedy         26.219988\n",
       "way            26.213668\n",
       "falls          26.174645\n",
       "soon           25.636246\n",
       "make           25.593589\n",
       "tries          25.575439\n",
       "returns        25.151014\n",
       "stories        25.089452\n",
       "student        25.016467\n",
       "day            24.966205\n",
       "follows        24.435669\n",
       "stand          24.197227\n",
       "fight          24.194647\n",
       "romance        24.165347\n",
       "star           24.086670\n",
       "mission        23.501940\n",
       "brother        23.386428\n",
       "marriage       23.281688\n",
       "work           23.055445\n",
       "film           23.054855\n",
       "begins         22.856533\n",
       "husband        22.781964\n",
       "evil           22.592522\n",
       "career         22.531320\n",
       "journey        22.494653\n",
       "big            22.112822\n",
       "small          22.106277\n",
       "police         22.097084\n",
       "ex             21.906575\n",
       "real           21.855055\n",
       "battle         21.824612\n",
       "cop            21.658330\n",
       "sets           21.534215\n",
       "turns          21.312519\n",
       "american       21.292093\n",
       "people         21.074729\n",
       "drama          21.061726\n",
       "drug           21.058271\n",
       "live           20.984294\n",
       "college        20.737307\n",
       "goes           20.540016\n",
       "history        20.516686\n",
       "personal       20.356537\n",
       "meets          20.221277\n",
       "comedian       20.075431\n",
       "dark           19.950341\n",
       "set            19.895822\n",
       "game           19.840690\n",
       "forces         19.810479\n",
       "dtype: float64"
      ]
     },
     "execution_count": 65,
     "metadata": {},
     "output_type": "execute_result"
    }
   ],
   "source": [
    "# now to manually find some strong words that indicate a correlation with the \"17\" rating\n",
    "pd.set_option('display.max_rows', 100)\n",
    "tfidf_df.sum().sort_values(ascending=False).head(100)"
   ]
  },
  {
   "cell_type": "code",
   "execution_count": 66,
   "id": "7c7f3954",
   "metadata": {},
   "outputs": [],
   "source": [
    "pd.reset_option('display.max_rows')"
   ]
  },
  {
   "cell_type": "markdown",
   "id": "0a45076c",
   "metadata": {},
   "source": [
    " - words that indicate mature content (17+): murder, death, crime, war, mysterious, dark, drug, evil, cop, ex"
   ]
  },
  {
   "cell_type": "code",
   "execution_count": null,
   "id": "98efef32",
   "metadata": {},
   "outputs": [],
   "source": [
    "# create a binary column indicating the presence of strong words\n",
    "selected_words = [\"murder\", \"death\", \"crime\", \"war\", \"mysterious\", \"dark\", \"drug\", \"evil\", \"cop\", \"ex\"]\n",
    "df['contains_strong_words'] = df['description'].apply(lambda x: any(word in x for word in selected_words)).astype(int)\n"
   ]
  }
 ],
 "metadata": {
  "kernelspec": {
   "display_name": "Python 3 (ipykernel)",
   "language": "python",
   "name": "python3"
  },
  "language_info": {
   "codemirror_mode": {
    "name": "ipython",
    "version": 3
   },
   "file_extension": ".py",
   "mimetype": "text/x-python",
   "name": "python",
   "nbconvert_exporter": "python",
   "pygments_lexer": "ipython3",
   "version": "3.9.7"
  }
 },
 "nbformat": 4,
 "nbformat_minor": 5
}
